{
 "cells": [
  {
   "cell_type": "markdown",
   "id": "selected-diving",
   "metadata": {},
   "source": [
    "### Basic global settings trials including ncluster, method and data used"
   ]
  },
  {
   "cell_type": "code",
   "execution_count": 1,
   "id": "existing-journal",
   "metadata": {
    "ExecuteTime": {
     "end_time": "2021-09-11T13:52:45.373058Z",
     "start_time": "2021-09-11T13:52:43.036696Z"
    }
   },
   "outputs": [
    {
     "name": "stdout",
     "output_type": "stream",
     "text": [
      "env: GUROBI_HOME=/usr/local/gurobi/linux64\n"
     ]
    }
   ],
   "source": [
    "import os\n",
    "import json\n",
    "import itertools\n",
    "import pandas as pd\n",
    "from functions import *\n",
    "%set_env GUROBI_HOME=/usr/local/gurobi/linux64"
   ]
  },
  {
   "cell_type": "code",
   "execution_count": 2,
   "id": "centered-framework",
   "metadata": {
    "ExecuteTime": {
     "end_time": "2021-09-11T13:52:47.399076Z",
     "start_time": "2021-09-11T13:52:45.376585Z"
    }
   },
   "outputs": [
    {
     "name": "stdout",
     "output_type": "stream",
     "text": [
      "{'c_bat': 200000, 'c_bat_power': 70000, 'c_pv': 1000000, 'c_wind': 1500000, 'c_gen_inv': 1000000, 'c_gen_a': 0.1, 'c_gen_b': 30, 'up_time': 6, 'down_time': 6, 'energy_cap': 200, 'power_cap': 200, 'gen_cap': 0, 'mdc': 50, 'effi': 0.9, 'rps': 0.8, 'note_2': 'This property is set to indicate what are above properties for model. Change with model parameters.', 'solver': 1, 'print_log': 0, 'mipgap': 0.0001, 'timelimit': 210240, 'note_3': 'This property is set to indicate what are above properties for solver. No need to change.'}\n"
     ]
    }
   ],
   "source": [
    "with open('config.json', 'r') as f:\n",
    "    config_all = json.loads(f.read())\n",
    "\n",
    "config = config_all['Texas_7_years']\n",
    "inputs = config['inputs']\n",
    "settings = config['settings']\n",
    "print(inputs)\n",
    "pv_all = np.genfromtxt(\n",
    "    os.path.join(config['root'], config['pv_path']), delimiter=',', filling_values=0)\n",
    "wind_all = np.genfromtxt(\n",
    "    os.path.join(config['root'], config['wind_path']), delimiter=',', filling_values=0)\n",
    "load_all = np.genfromtxt(\n",
    "    os.path.join(config['root'], config['load_path']), delimiter=',', filling_values=0)  # Data load"
   ]
  },
  {
   "cell_type": "code",
   "execution_count": 3,
   "id": "engaging-buying",
   "metadata": {
    "ExecuteTime": {
     "end_time": "2021-09-11T13:52:47.411566Z",
     "start_time": "2021-09-11T13:52:47.402809Z"
    }
   },
   "outputs": [],
   "source": [
    "day_num = settings['day_num']\n",
    "time_set = np.arange(24*day_num)  # Time horizon\n",
    "if 'profile_id' in settings:\n",
    "    profile_id = settings['profile_id']\n",
    "    renewable = [wind_all[time_set, profile_id],pv_all[time_set, profile_id]]\n",
    "else:\n",
    "    # Denote that first profile is used and no other profile exists.\n",
    "    profile_id = -1\n",
    "    renewable = [wind_all[time_set], pv_all[time_set]]\n",
    "load = load_all[time_set]*100  # Data extract"
   ]
  },
  {
   "cell_type": "code",
   "execution_count": 4,
   "id": "quality-arnold",
   "metadata": {
    "ExecuteTime": {
     "end_time": "2021-09-11T14:10:28.997711Z",
     "start_time": "2021-09-11T13:52:47.414865Z"
    },
    "scrolled": false
   },
   "outputs": [
    {
     "name": "stdout",
     "output_type": "stream",
     "text": [
      "Index :0\n",
      "1th trial:  23.9145405292511\n",
      "2th trial:  28.989708185195923\n",
      "3th trial:  47.216710805892944\n",
      "4th trial:  40.215611696243286\n",
      "5th trial:  58.66111469268799\n",
      "6th trial:  69.42632603645325\n",
      "Index :1\n",
      "1th trial:  24.706538915634155\n",
      "2th trial:  28.771324634552002\n",
      "3th trial:  38.87427544593811\n",
      "4th trial:  46.125957012176514\n",
      "5th trial:  56.8280553817749\n",
      "6th trial:  58.69496536254883\n",
      "Index :2\n",
      "1th trial:  24.12559723854065\n",
      "2th trial:  28.556776762008667\n",
      "3th trial:  42.704293966293335\n",
      "4th trial:  51.24927878379822\n",
      "5th trial:  53.51633405685425\n",
      "6th trial:  63.4648642539978\n",
      "Index :3\n",
      "1th trial:  24.73146367073059\n",
      "2th trial:  29.151500701904297\n",
      "3th trial:  42.765852212905884\n",
      "4th trial:  49.6628303527832\n",
      "5th trial:  57.140588998794556\n",
      "6th trial:  71.84397649765015\n",
      "All Done!\n"
     ]
    }
   ],
   "source": [
    "list_temp = itertools.product([100000,150000],[50000,30000],[500000,750000],[1000000,1250000])\n",
    "backups = pd.DataFrame(columns=['c_bat','c_bat_power','c_pv','c_wind'],data=list_temp)\n",
    "for backup in [0,1,2,3]:\n",
    "    print(\"Index :\" + str(backup))\n",
    "    update = backups.loc[backup,:].to_dict()\n",
    "    for item in ['c_bat','c_bat_power','c_pv','c_wind']:\n",
    "        inputs[item] = update[item]\n",
    "    #inputs['print_log'] = 1\n",
    "    config['inputs'] = inputs\n",
    "    \"\"\"# Full time model solve\n",
    "    start_time = time.time()\n",
    "    m = time_model_solve(inputs, renewable, load)\n",
    "    elapsed_time = time.time() - start_time\n",
    "    results = dict()\n",
    "    for v in m.component_objects(Var, active=True):\n",
    "        var_object = getattr(m, str(v))\n",
    "        results[str(v)] = []\n",
    "        if var_object.is_indexed() and len(var_object) >= 1:\n",
    "            for t in range(len(var_object)):\n",
    "                results[str(v)].append(var_object[t].value)\n",
    "        elif len(var_object) == 1:\n",
    "            results[str(v)] = var_object.value\n",
    "\n",
    "    # Benchmark calculation\n",
    "    to_add = ['renewable_cap', 'N', 'max_energy', 'max_power', 'total_cost'] if inputs['gen_cap'] else [\n",
    "    'renewable_cap', 'max_energy', 'max_power', 'total_cost']\n",
    "    expected = {v: results[v] for v in to_add}\n",
    "    expected['description'] = 'benchmark'\n",
    "    expected['elapsed_time'] = elapsed_time\n",
    "    for i in range(len(renewable)):\n",
    "        expected['renewable_cap_{}'.format(i)] = results['renewable_cap'][i]\n",
    "    pd.DataFrame([expected]).to_csv('/home/jupyter-zyh/Gnhe/benchmark/Linear/Texas/profile-{}-Int/expected/expected_{}_{}_1e-4.csv'.format(profile_id,day_num,backup))\n",
    "    print(\"Expectation : Done.\")\n",
    "    inputs['print_log'] = 0\n",
    "    config['inputs'] = inputs\n",
    "    sim_features_df = sim_features(config,wind_all,pv_all,load_all)\n",
    "    sim_features_df.to_csv('/home/jupyter-zyh/Gnhe/benchmark/Linear/Texas/profile-{}-Int/features/features_{}_{}_1e-4.csv'.format(profile_id,day_num,backup))\n",
    "    print(\"Simulation : Done.\")\"\"\"\n",
    "    \n",
    "    expected = pd.read_csv('/home/jupyter-zyh/Gnhe/benchmark/Linear/Texas/profile-1/expected/expected_2555_{}_1e-4.csv'.format(backup), index_col=0).loc[0,:].to_dict()\n",
    "    sim_features_df = pd.read_csv('/home/jupyter-zyh/Gnhe/benchmark/Linear/Texas/profile-1/features/features_2555_{}_1e-4.csv'.format(backup),index_col=0)\n",
    "    df = run_trials(config, wind_all, pv_all, load_all, expected, sim_features_df[['renewable_cap_0','renewable_cap_1','max_energy','max_power']])\n",
    "    df.set_index('description').to_csv(\n",
    "        config['save_root']+settings['data']+('_Int_' if inputs['gen_cap'] else '_')+('Renewable'+str(profile_id)+'_' if 'profile_id' in settings else '_')+str(settings['day_num'])+'Days_'+str(settings['period'])+'HrsPerPeriod_{}_30.csv'.format(backup))\n",
    "print(\"All Done!\")"
   ]
  }
 ],
 "metadata": {
  "kernelspec": {
   "display_name": "Python 3",
   "language": "python",
   "name": "python3"
  },
  "language_info": {
   "codemirror_mode": {
    "name": "ipython",
    "version": 3
   },
   "file_extension": ".py",
   "mimetype": "text/x-python",
   "name": "python",
   "nbconvert_exporter": "python",
   "pygments_lexer": "ipython3",
   "version": "3.7.9"
  },
  "latex_envs": {
   "LaTeX_envs_menu_present": true,
   "autoclose": false,
   "autocomplete": true,
   "bibliofile": "biblio.bib",
   "cite_by": "apalike",
   "current_citInitial": 1,
   "eqLabelWithNumbers": true,
   "eqNumInitial": 1,
   "hotkeys": {
    "equation": "Ctrl-E",
    "itemize": "Ctrl-I"
   },
   "labels_anchors": false,
   "latex_user_defs": false,
   "report_style_numbering": false,
   "user_envs_cfg": false
  },
  "toc": {
   "base_numbering": 1,
   "nav_menu": {},
   "number_sections": false,
   "sideBar": false,
   "skip_h1_title": false,
   "title_cell": "Table of Contents",
   "title_sidebar": "Contents",
   "toc_cell": false,
   "toc_position": {},
   "toc_section_display": true,
   "toc_window_display": false
  },
  "varInspector": {
   "cols": {
    "lenName": 16,
    "lenType": 16,
    "lenVar": 40
   },
   "kernels_config": {
    "python": {
     "delete_cmd_postfix": "",
     "delete_cmd_prefix": "del ",
     "library": "var_list.py",
     "varRefreshCmd": "print(var_dic_list())"
    },
    "r": {
     "delete_cmd_postfix": ") ",
     "delete_cmd_prefix": "rm(",
     "library": "var_list.r",
     "varRefreshCmd": "cat(var_dic_list()) "
    }
   },
   "position": {
    "height": "106.667px",
    "left": "973px",
    "right": "20px",
    "top": "120px",
    "width": "287px"
   },
   "types_to_exclude": [
    "module",
    "function",
    "builtin_function_or_method",
    "instance",
    "_Feature"
   ],
   "window_display": false
  }
 },
 "nbformat": 4,
 "nbformat_minor": 5
}
