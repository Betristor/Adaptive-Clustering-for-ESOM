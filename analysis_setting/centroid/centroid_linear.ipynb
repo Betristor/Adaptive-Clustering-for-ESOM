{
 "cells": [
  {
   "cell_type": "markdown",
   "id": "selected-diving",
   "metadata": {},
   "source": [
    "### Basic global settings trials including ncluster, method and data used"
   ]
  },
  {
   "cell_type": "code",
   "execution_count": 1,
   "id": "existing-journal",
   "metadata": {
    "ExecuteTime": {
     "end_time": "2021-06-25T06:10:08.774601Z",
     "start_time": "2021-06-25T06:10:07.442036Z"
    }
   },
   "outputs": [
    {
     "name": "stdout",
     "output_type": "stream",
     "text": [
      "env: GUROBI_HOME=/usr/local/gurobi/linux64\n"
     ]
    }
   ],
   "source": [
    "import os\n",
    "import json\n",
    "import itertools\n",
    "import pandas as pd\n",
    "from functions import *\n",
    "%set_env GUROBI_HOME=/usr/local/gurobi/linux64"
   ]
  },
  {
   "cell_type": "code",
   "execution_count": 2,
   "id": "centered-framework",
   "metadata": {
    "ExecuteTime": {
     "end_time": "2021-06-25T06:10:09.801959Z",
     "start_time": "2021-06-25T06:10:08.777069Z"
    }
   },
   "outputs": [
    {
     "name": "stdout",
     "output_type": "stream",
     "text": [
      "{'c_bat': 200000, 'c_bat_power': 70000, 'c_pv': 1000000, 'c_wind': 1500000, 'c_gen_inv': 1000000, 'c_gen_a': 0.1, 'c_gen_b': 30, 'up_time': 6, 'down_time': 6, 'energy_cap': 200, 'power_cap': 200, 'gen_cap': 0, 'mdc': 50, 'effi': 0.9, 'rps': 0.8, 'note_2': 'This property is set to indicate what are above properties for model. Change with model parameters.', 'solver': 1, 'print_log': 0, 'timelimit': 210240, 'note_3': 'This property is set to indicate what are above properties for solver. No need to change.'}\n"
     ]
    }
   ],
   "source": [
    "with open('config.json', 'r') as f:\n",
    "    config_all = json.loads(f.read())\n",
    "\n",
    "config = config_all['Texas_7_years_1']\n",
    "inputs = config['inputs']\n",
    "settings = config['settings']\n",
    "print(inputs)\n",
    "pv_all = np.genfromtxt(\n",
    "    os.path.join(config['root'], config['pv_path']), delimiter=',', filling_values=0)\n",
    "wind_all = np.genfromtxt(\n",
    "    os.path.join(config['root'], config['wind_path']), delimiter=',', filling_values=0)\n",
    "load_all = np.genfromtxt(\n",
    "    os.path.join(config['root'], config['load_path']), delimiter=',', filling_values=0)  # Data load"
   ]
  },
  {
   "cell_type": "code",
   "execution_count": 3,
   "id": "engaging-buying",
   "metadata": {
    "ExecuteTime": {
     "end_time": "2021-06-25T06:10:09.810229Z",
     "start_time": "2021-06-25T06:10:09.804390Z"
    }
   },
   "outputs": [],
   "source": [
    "day_num = settings['day_num']\n",
    "time_set = np.arange(24*day_num)  # Time horizon\n",
    "if 'profile_id' in settings:\n",
    "    profile_id = settings['profile_id']\n",
    "    renewable = [wind_all[time_set, profile_id],pv_all[time_set, profile_id]]\n",
    "else:\n",
    "    # Denote that first profile is used and no other profile exists.\n",
    "    profile_id = -1\n",
    "    renewable = [wind_all[time_set], pv_all[time_set]]\n",
    "load = load_all[time_set]*100  # Data extract"
   ]
  },
  {
   "cell_type": "code",
   "execution_count": 4,
   "id": "quality-arnold",
   "metadata": {
    "ExecuteTime": {
     "end_time": "2021-06-25T06:10:31.230192Z",
     "start_time": "2021-06-25T06:10:09.812157Z"
    },
    "scrolled": true
   },
   "outputs": [
    {
     "name": "stdout",
     "output_type": "stream",
     "text": [
      "Index :0\n",
      "1th trial:  2.1902074813842773\n",
      "2th trial:  2.5414628982543945\n",
      "3th trial:  1.7992584705352783\n",
      "4th trial:  2.234307050704956\n",
      "5th trial:  1.9901251792907715\n",
      "6th trial:  2.2615952491760254\n",
      "7th trial:  1.7904341220855713\n",
      "8th trial:  2.1925854682922363\n",
      "9th trial:  1.8157875537872314\n",
      "10th trial:  2.273505449295044\n"
     ]
    },
    {
     "ename": "IndexError",
     "evalue": "index 4 is out of bounds for axis 0 with size 4",
     "output_type": "error",
     "traceback": [
      "\u001b[0;31m---------------------------------------------------------------------------\u001b[0m",
      "\u001b[0;31mIndexError\u001b[0m                                Traceback (most recent call last)",
      "\u001b[0;32m<ipython-input-4-3f29fa8b6cee>\u001b[0m in \u001b[0;36m<module>\u001b[0;34m\u001b[0m\n\u001b[1;32m      9\u001b[0m     \u001b[0mexpected\u001b[0m \u001b[0;34m=\u001b[0m \u001b[0mpd\u001b[0m\u001b[0;34m.\u001b[0m\u001b[0mread_csv\u001b[0m\u001b[0;34m(\u001b[0m\u001b[0;34m'/home/jupyter-zyh/Gnhe/benchmark/Linear/Texas/profile-{}/expected/expected_2555_{}_1e-4.csv'\u001b[0m\u001b[0;34m.\u001b[0m\u001b[0mformat\u001b[0m\u001b[0;34m(\u001b[0m\u001b[0mprofile_id\u001b[0m\u001b[0;34m,\u001b[0m\u001b[0mbackup\u001b[0m\u001b[0;34m)\u001b[0m\u001b[0;34m,\u001b[0m \u001b[0mindex_col\u001b[0m\u001b[0;34m=\u001b[0m\u001b[0;36m0\u001b[0m\u001b[0;34m)\u001b[0m\u001b[0;34m.\u001b[0m\u001b[0mloc\u001b[0m\u001b[0;34m[\u001b[0m\u001b[0;36m0\u001b[0m\u001b[0;34m,\u001b[0m\u001b[0;34m:\u001b[0m\u001b[0;34m]\u001b[0m\u001b[0;34m.\u001b[0m\u001b[0mto_dict\u001b[0m\u001b[0;34m(\u001b[0m\u001b[0;34m)\u001b[0m\u001b[0;34m\u001b[0m\u001b[0;34m\u001b[0m\u001b[0m\n\u001b[1;32m     10\u001b[0m     \u001b[0msim_features_df\u001b[0m \u001b[0;34m=\u001b[0m \u001b[0mpd\u001b[0m\u001b[0;34m.\u001b[0m\u001b[0mread_csv\u001b[0m\u001b[0;34m(\u001b[0m\u001b[0;34m'/home/jupyter-zyh/Gnhe/benchmark/Linear/Texas/profile-{}/features/features_2555_{}_1e-4.csv'\u001b[0m\u001b[0;34m.\u001b[0m\u001b[0mformat\u001b[0m\u001b[0;34m(\u001b[0m\u001b[0mprofile_id\u001b[0m\u001b[0;34m,\u001b[0m\u001b[0mbackup\u001b[0m\u001b[0;34m)\u001b[0m\u001b[0;34m,\u001b[0m \u001b[0mindex_col\u001b[0m\u001b[0;34m=\u001b[0m\u001b[0;36m0\u001b[0m\u001b[0;34m)\u001b[0m\u001b[0;34m\u001b[0m\u001b[0;34m\u001b[0m\u001b[0m\n\u001b[0;32m---> 11\u001b[0;31m     \u001b[0mdf\u001b[0m \u001b[0;34m=\u001b[0m \u001b[0mrun_trials\u001b[0m\u001b[0;34m(\u001b[0m\u001b[0mconfig\u001b[0m\u001b[0;34m,\u001b[0m \u001b[0mwind_all\u001b[0m\u001b[0;34m,\u001b[0m \u001b[0mpv_all\u001b[0m\u001b[0;34m,\u001b[0m \u001b[0mload_all\u001b[0m\u001b[0;34m,\u001b[0m \u001b[0mexpected\u001b[0m\u001b[0;34m,\u001b[0m \u001b[0msim_features_df\u001b[0m\u001b[0;34m[\u001b[0m\u001b[0;34m[\u001b[0m\u001b[0;34m'renewable_cap_0'\u001b[0m\u001b[0;34m,\u001b[0m\u001b[0;34m'renewable_cap_1'\u001b[0m\u001b[0;34m,\u001b[0m\u001b[0;34m'max_energy'\u001b[0m\u001b[0;34m,\u001b[0m\u001b[0;34m'max_power'\u001b[0m\u001b[0;34m]\u001b[0m\u001b[0;34m]\u001b[0m\u001b[0;34m)\u001b[0m\u001b[0;34m\u001b[0m\u001b[0;34m\u001b[0m\u001b[0m\n\u001b[0m\u001b[1;32m     12\u001b[0m     df.set_index('description').to_csv(\n\u001b[1;32m     13\u001b[0m         config['save_root']+settings['data']+('_Int_' if inputs['gen_cap'] else '_')+('Renewable'+str(profile_id)+'_' if 'profile_id' in settings else '_')+str(settings['day_num'])+'Days_'+str(settings['period'])+'HrsPerPeriod_{}.csv'.format(backup))\n",
      "\u001b[0;32m~/Gnhe/analysis_setting/centroid/functions.py\u001b[0m in \u001b[0;36mrun_trials\u001b[0;34m(config, wind_all, pv_all, load_all, expected, features)\u001b[0m\n\u001b[1;32m    514\u001b[0m \u001b[0;34m\u001b[0m\u001b[0m\n\u001b[1;32m    515\u001b[0m                     \u001b[0mstart\u001b[0m \u001b[0;34m=\u001b[0m \u001b[0mtime\u001b[0m\u001b[0;34m.\u001b[0m\u001b[0mtime\u001b[0m\u001b[0;34m(\u001b[0m\u001b[0;34m)\u001b[0m\u001b[0;34m\u001b[0m\u001b[0;34m\u001b[0m\u001b[0m\n\u001b[0;32m--> 516\u001b[0;31m                     \u001b[0mresult\u001b[0m \u001b[0;34m=\u001b[0m \u001b[0mtest_clustering\u001b[0m\u001b[0;34m(\u001b[0m\u001b[0minputs\u001b[0m\u001b[0;34m,\u001b[0m\u001b[0mtemp\u001b[0m\u001b[0;34m,\u001b[0m\u001b[0mexpected\u001b[0m\u001b[0;34m,\u001b[0m\u001b[0mdata_c\u001b[0m\u001b[0;34m)\u001b[0m\u001b[0;34m\u001b[0m\u001b[0;34m\u001b[0m\u001b[0m\n\u001b[0m\u001b[1;32m    517\u001b[0m                     \u001b[0mresult\u001b[0m\u001b[0;34m[\u001b[0m\u001b[0;34m'elapsed_time'\u001b[0m\u001b[0;34m]\u001b[0m \u001b[0;34m=\u001b[0m \u001b[0mtime\u001b[0m\u001b[0;34m.\u001b[0m\u001b[0mtime\u001b[0m\u001b[0;34m(\u001b[0m\u001b[0;34m)\u001b[0m \u001b[0;34m-\u001b[0m \u001b[0mstart\u001b[0m\u001b[0;34m\u001b[0m\u001b[0;34m\u001b[0m\u001b[0m\n\u001b[1;32m    518\u001b[0m                     \u001b[0mresult\u001b[0m\u001b[0;34m[\u001b[0m\u001b[0;34m'description'\u001b[0m\u001b[0;34m]\u001b[0m \u001b[0;34m=\u001b[0m \u001b[0;34m'clustered'\u001b[0m\u001b[0;34m\u001b[0m\u001b[0;34m\u001b[0m\u001b[0m\n",
      "\u001b[0;32m~/Gnhe/analysis_setting/centroid/functions.py\u001b[0m in \u001b[0;36mtest_clustering\u001b[0;34m(inputs, settings, expected, data)\u001b[0m\n\u001b[1;32m    423\u001b[0m         'renewable_cap_0', 'renewable_cap_1', 'max_energy', 'max_power', 'total_cost']\n\u001b[1;32m    424\u001b[0m \u001b[0;34m\u001b[0m\u001b[0m\n\u001b[0;32m--> 425\u001b[0;31m     \u001b[0mweight\u001b[0m\u001b[0;34m,\u001b[0m \u001b[0mrep_renewable\u001b[0m\u001b[0;34m,\u001b[0m \u001b[0mrep_load\u001b[0m \u001b[0;34m=\u001b[0m \u001b[0mcluster\u001b[0m\u001b[0;34m(\u001b[0m\u001b[0msettings\u001b[0m\u001b[0;34m,\u001b[0m \u001b[0mdata\u001b[0m\u001b[0;34m)\u001b[0m\u001b[0;34m\u001b[0m\u001b[0;34m\u001b[0m\u001b[0m\n\u001b[0m\u001b[1;32m    426\u001b[0m \u001b[0;34m\u001b[0m\u001b[0m\n\u001b[1;32m    427\u001b[0m     \u001b[0mm\u001b[0m \u001b[0;34m=\u001b[0m \u001b[0mtime_model_solve\u001b[0m\u001b[0;34m(\u001b[0m\u001b[0minputs\u001b[0m\u001b[0;34m,\u001b[0m \u001b[0mrep_renewable\u001b[0m\u001b[0;34m,\u001b[0m \u001b[0mrep_load\u001b[0m\u001b[0;34m,\u001b[0m \u001b[0mweight\u001b[0m\u001b[0;34m)\u001b[0m\u001b[0;34m\u001b[0m\u001b[0;34m\u001b[0m\u001b[0m\n",
      "\u001b[0;32m~/Gnhe/analysis_setting/centroid/functions.py\u001b[0m in \u001b[0;36mcluster\u001b[0;34m(settings, data, cluster_log)\u001b[0m\n\u001b[1;32m    382\u001b[0m     \u001b[0;31m# assuming only for combined case\u001b[0m\u001b[0;34m\u001b[0m\u001b[0;34m\u001b[0m\u001b[0;34m\u001b[0m\u001b[0m\n\u001b[1;32m    383\u001b[0m     \u001b[0;32mif\u001b[0m \u001b[0;34m'centroid'\u001b[0m \u001b[0;32min\u001b[0m \u001b[0msettings\u001b[0m \u001b[0;32mand\u001b[0m \u001b[0msettings\u001b[0m\u001b[0;34m[\u001b[0m\u001b[0;34m'centroid'\u001b[0m\u001b[0;34m]\u001b[0m\u001b[0;34m:\u001b[0m\u001b[0;34m\u001b[0m\u001b[0;34m\u001b[0m\u001b[0m\n\u001b[0;32m--> 384\u001b[0;31m         \u001b[0mrep_renewable\u001b[0m \u001b[0;34m=\u001b[0m \u001b[0;34m[\u001b[0m\u001b[0mnp\u001b[0m\u001b[0;34m.\u001b[0m\u001b[0mconcatenate\u001b[0m\u001b[0;34m(\u001b[0m\u001b[0;34m[\u001b[0m\u001b[0mcentroids\u001b[0m\u001b[0;34m[\u001b[0m\u001b[0mk\u001b[0m\u001b[0;34m]\u001b[0m\u001b[0;34m[\u001b[0m\u001b[0mr\u001b[0m\u001b[0;34m]\u001b[0m \u001b[0;32mfor\u001b[0m \u001b[0mk\u001b[0m \u001b[0;32min\u001b[0m \u001b[0mrange\u001b[0m\u001b[0;34m(\u001b[0m\u001b[0mncluster\u001b[0m\u001b[0;34m)\u001b[0m\u001b[0;34m]\u001b[0m\u001b[0;34m)\u001b[0m \u001b[0;32mfor\u001b[0m \u001b[0mr\u001b[0m \u001b[0;32min\u001b[0m \u001b[0mrenewable_range\u001b[0m\u001b[0;34m]\u001b[0m\u001b[0;34m\u001b[0m\u001b[0;34m\u001b[0m\u001b[0m\n\u001b[0m\u001b[1;32m    385\u001b[0m         rep_load = np.concatenate([centroids[k][load_range]\n\u001b[1;32m    386\u001b[0m                                   for k in range(ncluster)])*100\n",
      "\u001b[0;32m~/Gnhe/analysis_setting/centroid/functions.py\u001b[0m in \u001b[0;36m<listcomp>\u001b[0;34m(.0)\u001b[0m\n\u001b[1;32m    382\u001b[0m     \u001b[0;31m# assuming only for combined case\u001b[0m\u001b[0;34m\u001b[0m\u001b[0;34m\u001b[0m\u001b[0;34m\u001b[0m\u001b[0m\n\u001b[1;32m    383\u001b[0m     \u001b[0;32mif\u001b[0m \u001b[0;34m'centroid'\u001b[0m \u001b[0;32min\u001b[0m \u001b[0msettings\u001b[0m \u001b[0;32mand\u001b[0m \u001b[0msettings\u001b[0m\u001b[0;34m[\u001b[0m\u001b[0;34m'centroid'\u001b[0m\u001b[0;34m]\u001b[0m\u001b[0;34m:\u001b[0m\u001b[0;34m\u001b[0m\u001b[0;34m\u001b[0m\u001b[0m\n\u001b[0;32m--> 384\u001b[0;31m         \u001b[0mrep_renewable\u001b[0m \u001b[0;34m=\u001b[0m \u001b[0;34m[\u001b[0m\u001b[0mnp\u001b[0m\u001b[0;34m.\u001b[0m\u001b[0mconcatenate\u001b[0m\u001b[0;34m(\u001b[0m\u001b[0;34m[\u001b[0m\u001b[0mcentroids\u001b[0m\u001b[0;34m[\u001b[0m\u001b[0mk\u001b[0m\u001b[0;34m]\u001b[0m\u001b[0;34m[\u001b[0m\u001b[0mr\u001b[0m\u001b[0;34m]\u001b[0m \u001b[0;32mfor\u001b[0m \u001b[0mk\u001b[0m \u001b[0;32min\u001b[0m \u001b[0mrange\u001b[0m\u001b[0;34m(\u001b[0m\u001b[0mncluster\u001b[0m\u001b[0;34m)\u001b[0m\u001b[0;34m]\u001b[0m\u001b[0;34m)\u001b[0m \u001b[0;32mfor\u001b[0m \u001b[0mr\u001b[0m \u001b[0;32min\u001b[0m \u001b[0mrenewable_range\u001b[0m\u001b[0;34m]\u001b[0m\u001b[0;34m\u001b[0m\u001b[0;34m\u001b[0m\u001b[0m\n\u001b[0m\u001b[1;32m    385\u001b[0m         rep_load = np.concatenate([centroids[k][load_range]\n\u001b[1;32m    386\u001b[0m                                   for k in range(ncluster)])*100\n",
      "\u001b[0;32m~/Gnhe/analysis_setting/centroid/functions.py\u001b[0m in \u001b[0;36m<listcomp>\u001b[0;34m(.0)\u001b[0m\n\u001b[1;32m    382\u001b[0m     \u001b[0;31m# assuming only for combined case\u001b[0m\u001b[0;34m\u001b[0m\u001b[0;34m\u001b[0m\u001b[0;34m\u001b[0m\u001b[0m\n\u001b[1;32m    383\u001b[0m     \u001b[0;32mif\u001b[0m \u001b[0;34m'centroid'\u001b[0m \u001b[0;32min\u001b[0m \u001b[0msettings\u001b[0m \u001b[0;32mand\u001b[0m \u001b[0msettings\u001b[0m\u001b[0;34m[\u001b[0m\u001b[0;34m'centroid'\u001b[0m\u001b[0;34m]\u001b[0m\u001b[0;34m:\u001b[0m\u001b[0;34m\u001b[0m\u001b[0;34m\u001b[0m\u001b[0m\n\u001b[0;32m--> 384\u001b[0;31m         \u001b[0mrep_renewable\u001b[0m \u001b[0;34m=\u001b[0m \u001b[0;34m[\u001b[0m\u001b[0mnp\u001b[0m\u001b[0;34m.\u001b[0m\u001b[0mconcatenate\u001b[0m\u001b[0;34m(\u001b[0m\u001b[0;34m[\u001b[0m\u001b[0mcentroids\u001b[0m\u001b[0;34m[\u001b[0m\u001b[0mk\u001b[0m\u001b[0;34m]\u001b[0m\u001b[0;34m[\u001b[0m\u001b[0mr\u001b[0m\u001b[0;34m]\u001b[0m \u001b[0;32mfor\u001b[0m \u001b[0mk\u001b[0m \u001b[0;32min\u001b[0m \u001b[0mrange\u001b[0m\u001b[0;34m(\u001b[0m\u001b[0mncluster\u001b[0m\u001b[0;34m)\u001b[0m\u001b[0;34m]\u001b[0m\u001b[0;34m)\u001b[0m \u001b[0;32mfor\u001b[0m \u001b[0mr\u001b[0m \u001b[0;32min\u001b[0m \u001b[0mrenewable_range\u001b[0m\u001b[0;34m]\u001b[0m\u001b[0;34m\u001b[0m\u001b[0;34m\u001b[0m\u001b[0m\n\u001b[0m\u001b[1;32m    385\u001b[0m         rep_load = np.concatenate([centroids[k][load_range]\n\u001b[1;32m    386\u001b[0m                                   for k in range(ncluster)])*100\n",
      "\u001b[0;31mIndexError\u001b[0m: index 4 is out of bounds for axis 0 with size 4"
     ]
    }
   ],
   "source": [
    "list_temp = itertools.product([100000,150000],[50000,30000],[500000,750000],[1000000,1250000])\n",
    "backups = pd.DataFrame(columns=['c_bat','c_bat_power','c_pv','c_wind'],data=list_temp)\n",
    "for backup in backups.index:\n",
    "    print(\"Index :\" + str(backup))\n",
    "    update = backups.loc[backup,:].to_dict()\n",
    "    for item in ['c_bat','c_bat_power','c_pv','c_wind']:\n",
    "        inputs[item] = update[item]\n",
    "    config['inputs'] = inputs\n",
    "    expected = pd.read_csv('/home/jupyter-zyh/Gnhe/benchmark/Linear/Texas/profile-{}/expected/expected_2555_{}_1e-4.csv'.format(profile_id,backup), index_col=0).loc[0,:].to_dict()\n",
    "    sim_features_df = pd.read_csv('/home/jupyter-zyh/Gnhe/benchmark/Linear/Texas/profile-{}/features/features_2555_{}_1e-4.csv'.format(profile_id,backup), index_col=0)\n",
    "    df = run_trials(config, wind_all, pv_all, load_all, expected, sim_features_df[['renewable_cap_0','renewable_cap_1','max_energy','max_power']])\n",
    "    df.set_index('description').to_csv(\n",
    "        config['save_root']+settings['data']+('_Int_' if inputs['gen_cap'] else '_')+('Renewable'+str(profile_id)+'_' if 'profile_id' in settings else '_')+str(settings['day_num'])+'Days_'+str(settings['period'])+'HrsPerPeriod_{}.csv'.format(backup))\n",
    "print(\"All Done!\")"
   ]
  }
 ],
 "metadata": {
  "kernelspec": {
   "display_name": "Python 3",
   "language": "python",
   "name": "python3"
  },
  "language_info": {
   "codemirror_mode": {
    "name": "ipython",
    "version": 3
   },
   "file_extension": ".py",
   "mimetype": "text/x-python",
   "name": "python",
   "nbconvert_exporter": "python",
   "pygments_lexer": "ipython3",
   "version": "3.7.9"
  },
  "latex_envs": {
   "LaTeX_envs_menu_present": true,
   "autoclose": false,
   "autocomplete": true,
   "bibliofile": "biblio.bib",
   "cite_by": "apalike",
   "current_citInitial": 1,
   "eqLabelWithNumbers": true,
   "eqNumInitial": 1,
   "hotkeys": {
    "equation": "Ctrl-E",
    "itemize": "Ctrl-I"
   },
   "labels_anchors": false,
   "latex_user_defs": false,
   "report_style_numbering": false,
   "user_envs_cfg": false
  },
  "toc": {
   "base_numbering": 1,
   "nav_menu": {},
   "number_sections": false,
   "sideBar": false,
   "skip_h1_title": false,
   "title_cell": "Table of Contents",
   "title_sidebar": "Contents",
   "toc_cell": false,
   "toc_position": {},
   "toc_section_display": true,
   "toc_window_display": false
  },
  "varInspector": {
   "cols": {
    "lenName": 16,
    "lenType": 16,
    "lenVar": 40
   },
   "kernels_config": {
    "python": {
     "delete_cmd_postfix": "",
     "delete_cmd_prefix": "del ",
     "library": "var_list.py",
     "varRefreshCmd": "print(var_dic_list())"
    },
    "r": {
     "delete_cmd_postfix": ") ",
     "delete_cmd_prefix": "rm(",
     "library": "var_list.r",
     "varRefreshCmd": "cat(var_dic_list()) "
    }
   },
   "position": {
    "height": "106.667px",
    "left": "973px",
    "right": "20px",
    "top": "120px",
    "width": "287px"
   },
   "types_to_exclude": [
    "module",
    "function",
    "builtin_function_or_method",
    "instance",
    "_Feature"
   ],
   "window_display": false
  }
 },
 "nbformat": 4,
 "nbformat_minor": 5
}
